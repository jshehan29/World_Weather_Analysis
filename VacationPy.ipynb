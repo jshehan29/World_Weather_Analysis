{
 "cells": [
  {
   "cell_type": "code",
   "execution_count": 1,
   "id": "bizarre-poverty",
   "metadata": {},
   "outputs": [],
   "source": [
    "# Import dependencies\n",
    "import pandas as pd\n",
    "import gmaps\n",
    "import requests\n",
    "\n",
    "# Import the Google API key\n",
    "from config import g_key"
   ]
  },
  {
   "cell_type": "code",
   "execution_count": 2,
   "id": "beginning-championship",
   "metadata": {},
   "outputs": [
    {
     "data": {
      "text/html": [
       "<div>\n",
       "<style scoped>\n",
       "    .dataframe tbody tr th:only-of-type {\n",
       "        vertical-align: middle;\n",
       "    }\n",
       "\n",
       "    .dataframe tbody tr th {\n",
       "        vertical-align: top;\n",
       "    }\n",
       "\n",
       "    .dataframe thead th {\n",
       "        text-align: right;\n",
       "    }\n",
       "</style>\n",
       "<table border=\"1\" class=\"dataframe\">\n",
       "  <thead>\n",
       "    <tr style=\"text-align: right;\">\n",
       "      <th></th>\n",
       "      <th>City_ID</th>\n",
       "      <th>City</th>\n",
       "      <th>Country</th>\n",
       "      <th>Date</th>\n",
       "      <th>Lat</th>\n",
       "      <th>Lng</th>\n",
       "      <th>Max Temp</th>\n",
       "      <th>Humidity</th>\n",
       "      <th>Cloudiness</th>\n",
       "      <th>Wind Speed</th>\n",
       "    </tr>\n",
       "  </thead>\n",
       "  <tbody>\n",
       "    <tr>\n",
       "      <th>0</th>\n",
       "      <td>0</td>\n",
       "      <td>Grand-Santi</td>\n",
       "      <td>GF</td>\n",
       "      <td>2021-03-25 21:56:52</td>\n",
       "      <td>4.2500</td>\n",
       "      <td>-54.3833</td>\n",
       "      <td>76.06</td>\n",
       "      <td>86</td>\n",
       "      <td>50</td>\n",
       "      <td>4.16</td>\n",
       "    </tr>\n",
       "    <tr>\n",
       "      <th>1</th>\n",
       "      <td>1</td>\n",
       "      <td>Nizhniy Kuranakh</td>\n",
       "      <td>RU</td>\n",
       "      <td>2021-03-25 21:56:52</td>\n",
       "      <td>58.8353</td>\n",
       "      <td>125.4869</td>\n",
       "      <td>6.15</td>\n",
       "      <td>94</td>\n",
       "      <td>100</td>\n",
       "      <td>2.75</td>\n",
       "    </tr>\n",
       "    <tr>\n",
       "      <th>2</th>\n",
       "      <td>2</td>\n",
       "      <td>Rikitea</td>\n",
       "      <td>PF</td>\n",
       "      <td>2021-03-25 21:56:52</td>\n",
       "      <td>-23.1203</td>\n",
       "      <td>-134.9692</td>\n",
       "      <td>79.68</td>\n",
       "      <td>72</td>\n",
       "      <td>69</td>\n",
       "      <td>17.60</td>\n",
       "    </tr>\n",
       "    <tr>\n",
       "      <th>3</th>\n",
       "      <td>3</td>\n",
       "      <td>Jamestown</td>\n",
       "      <td>US</td>\n",
       "      <td>2021-03-25 21:55:33</td>\n",
       "      <td>42.0970</td>\n",
       "      <td>-79.2353</td>\n",
       "      <td>68.00</td>\n",
       "      <td>40</td>\n",
       "      <td>1</td>\n",
       "      <td>7.43</td>\n",
       "    </tr>\n",
       "    <tr>\n",
       "      <th>4</th>\n",
       "      <td>4</td>\n",
       "      <td>Yumen</td>\n",
       "      <td>CN</td>\n",
       "      <td>2021-03-25 21:56:53</td>\n",
       "      <td>40.2833</td>\n",
       "      <td>97.2000</td>\n",
       "      <td>41.29</td>\n",
       "      <td>37</td>\n",
       "      <td>11</td>\n",
       "      <td>6.53</td>\n",
       "    </tr>\n",
       "  </tbody>\n",
       "</table>\n",
       "</div>"
      ],
      "text/plain": [
       "   City_ID              City Country                 Date      Lat       Lng  \\\n",
       "0        0       Grand-Santi      GF  2021-03-25 21:56:52   4.2500  -54.3833   \n",
       "1        1  Nizhniy Kuranakh      RU  2021-03-25 21:56:52  58.8353  125.4869   \n",
       "2        2           Rikitea      PF  2021-03-25 21:56:52 -23.1203 -134.9692   \n",
       "3        3         Jamestown      US  2021-03-25 21:55:33  42.0970  -79.2353   \n",
       "4        4             Yumen      CN  2021-03-25 21:56:53  40.2833   97.2000   \n",
       "\n",
       "   Max Temp  Humidity  Cloudiness  Wind Speed  \n",
       "0     76.06        86          50        4.16  \n",
       "1      6.15        94         100        2.75  \n",
       "2     79.68        72          69       17.60  \n",
       "3     68.00        40           1        7.43  \n",
       "4     41.29        37          11        6.53  "
      ]
     },
     "execution_count": 2,
     "metadata": {},
     "output_type": "execute_result"
    }
   ],
   "source": [
    "# Store the CSV file created for cities in a DataFrame\n",
    "city_data_df = pd.read_csv(\"Weather_data/cities.csv\")\n",
    "city_data_df.head()"
   ]
  },
  {
   "cell_type": "code",
   "execution_count": 3,
   "id": "becoming-bristol",
   "metadata": {},
   "outputs": [
    {
     "data": {
      "text/plain": [
       "City_ID         int64\n",
       "City           object\n",
       "Country        object\n",
       "Date           object\n",
       "Lat           float64\n",
       "Lng           float64\n",
       "Max Temp      float64\n",
       "Humidity        int64\n",
       "Cloudiness      int64\n",
       "Wind Speed    float64\n",
       "dtype: object"
      ]
     },
     "execution_count": 3,
     "metadata": {},
     "output_type": "execute_result"
    }
   ],
   "source": [
    "city_data_df.dtypes"
   ]
  },
  {
   "cell_type": "code",
   "execution_count": 4,
   "id": "color-syracuse",
   "metadata": {},
   "outputs": [],
   "source": [
    "# Configure gmaps to use Google API key\n",
    "gmaps.configure(api_key=g_key)"
   ]
  },
  {
   "cell_type": "code",
   "execution_count": 5,
   "id": "parliamentary-heather",
   "metadata": {},
   "outputs": [],
   "source": [
    "## Create Heatmap\n",
    "## 1. Assign the locations to an array of latitude and longitude pairs\n",
    "#locations = [latitude, longitude]\n",
    "## 2. Assign the weights variable to some values\n",
    "#temperatures = # an array of length equal to the locations array length\n",
    "## 3. Assign the figure variable to the gmaps.figure() attribute\n",
    "#fig = gmaps.figure()\n",
    "## 4. Assign the heatmap_layer variable to the heatmap_layer attribute and add in locations\n",
    "#heatmap_layer = gmaps.heatmap_layer(locations, weights=temperature)\n",
    "## 5. Add the heatmap layer\n",
    "#fig.add_layer(heatmap_layer)\n",
    "## 6. Call the figure to plot the data\n",
    "#fig"
   ]
  },
  {
   "cell_type": "code",
   "execution_count": 6,
   "id": "imposed-official",
   "metadata": {},
   "outputs": [
    {
     "data": {
      "application/vnd.jupyter.widget-view+json": {
       "model_id": "0cbba70d3d5047119449ee962c592ce8",
       "version_major": 2,
       "version_minor": 0
      },
      "text/plain": [
       "Figure(layout=FigureLayout(height='420px'))"
      ]
     },
     "metadata": {},
     "output_type": "display_data"
    }
   ],
   "source": [
    "# Heatmap of temperature\n",
    "\n",
    "# Get the latitude and longitude\n",
    "locations = city_data_df[[\"Lat\",\"Lng\"]]\n",
    "# Get the max temperature\n",
    "max_temp = city_data_df[\"Max Temp\"]\n",
    "# Have to add a for loop here to zero out negative temperatures\n",
    "#temps = []\n",
    "# for temp in max_temp:\n",
    "#     temps.append(max(temp,0))\n",
    "# Assign the figure variable\n",
    "fig = gmaps.figure(center=(30.0,31.0), zoom_level=1.5)\n",
    "# Assign the heatmap variable --> use list comprehension to zero negative temps instead of for loop\n",
    "heat_layer = gmaps.heatmap_layer(locations, weights=[max(temp,0) for temp in max_temp])\n",
    "# Add the heatmap layer\n",
    "fig.add_layer(heat_layer)\n",
    "# Call the figure to plot the data\n",
    "fig"
   ]
  },
  {
   "cell_type": "markdown",
   "id": "nervous-collective",
   "metadata": {},
   "source": [
    "Adjust Heatmap Zoom, Intensity, and Point Radius\n",
    "--------------------"
   ]
  },
  {
   "cell_type": "code",
   "execution_count": 7,
   "id": "certain-costume",
   "metadata": {},
   "outputs": [
    {
     "data": {
      "application/vnd.jupyter.widget-view+json": {
       "model_id": "c14d7bdb93d1428da6e4cfdb9c337bf8",
       "version_major": 2,
       "version_minor": 0
      },
      "text/plain": [
       "Figure(layout=FigureLayout(height='420px'))"
      ]
     },
     "metadata": {},
     "output_type": "display_data"
    }
   ],
   "source": [
    "# Heatmap of temperature\n",
    "\n",
    "# Get the latitude and longitude\n",
    "locations = city_data_df[[\"Lat\",\"Lng\"]]\n",
    "# Get the max temperature\n",
    "max_temp = city_data_df[\"Max Temp\"]\n",
    "# Have to add a for loop here to zero out negative temperatures\n",
    "#temps = []\n",
    "# for temp in max_temp:\n",
    "#     temps.append(max(temp,0))\n",
    "# Assign the figure variable\n",
    "fig = gmaps.figure(center=(30.0,31.0), zoom_level=1.5)\n",
    "# Assign the heatmap variable --> use list comprehension to zero negative temps instead of for loop\n",
    "heat_layer = gmaps.heatmap_layer(locations, weights=[max(temp,0) for temp in max_temp])\n",
    "# Add the heatmap layer\n",
    "fig.add_layer(heat_layer)\n",
    "# Call the figure to plot the data\n",
    "fig"
   ]
  },
  {
   "cell_type": "code",
   "execution_count": 8,
   "id": "aware-theory",
   "metadata": {},
   "outputs": [
    {
     "data": {
      "application/vnd.jupyter.widget-view+json": {
       "model_id": "9ff078e11e88479cbddc8a99833107a6",
       "version_major": 2,
       "version_minor": 0
      },
      "text/plain": [
       "Figure(layout=FigureLayout(height='420px'))"
      ]
     },
     "metadata": {},
     "output_type": "display_data"
    }
   ],
   "source": [
    "# Heatmap of temperature\n",
    "\n",
    "# Get the latitude and longitude\n",
    "locations = city_data_df[[\"Lat\",\"Lng\"]]\n",
    "# Get the max temperature\n",
    "max_temp = city_data_df[\"Max Temp\"]\n",
    "# Have to add a for loop here to zero out negative temperatures\n",
    "#temps = []\n",
    "# for temp in max_temp:\n",
    "#     temps.append(max(temp,0))\n",
    "# Assign the figure variable\n",
    "fig = gmaps.figure(center=(30.0,31.0), zoom_level=1.5)\n",
    "# Assign the heatmap variable --> use list comprehension to zero negative temps instead of for loop\n",
    "heat_layer = gmaps.heatmap_layer(locations, weights=[max(temp,0) for temp in max_temp],\n",
    "                                dissipating=False, max_intensity=300, point_radius=4)\n",
    "# Add the heatmap layer\n",
    "fig.add_layer(heat_layer)\n",
    "# Call the figure to plot the data\n",
    "fig"
   ]
  },
  {
   "cell_type": "markdown",
   "id": "thermal-persian",
   "metadata": {},
   "source": [
    "Create a Percent Humidity Heatmap\n",
    "---------------"
   ]
  },
  {
   "cell_type": "code",
   "execution_count": 9,
   "id": "generic-transcript",
   "metadata": {},
   "outputs": [
    {
     "data": {
      "application/vnd.jupyter.widget-view+json": {
       "model_id": "edbf61c878244a7984411c098c53f2f1",
       "version_major": 2,
       "version_minor": 0
      },
      "text/plain": [
       "Figure(layout=FigureLayout(height='420px'))"
      ]
     },
     "metadata": {},
     "output_type": "display_data"
    }
   ],
   "source": [
    "# Heatmap of humidity\n",
    "\n",
    "# Get the latitude and longitude\n",
    "locations = city_data_df[[\"Lat\",\"Lng\"]]\n",
    "# Get the max temperature\n",
    "humidity = city_data_df[\"Humidity\"]\n",
    "# Assign the figure variable\n",
    "fig = gmaps.figure(center=(30.0,31.0), zoom_level=1.5)\n",
    "# Assign the heatmap variable \n",
    "heat_layer = gmaps.heatmap_layer(locations, weights=humidity,\n",
    "                                dissipating=False, max_intensity=300, point_radius=4)\n",
    "# Add the heatmap layer\n",
    "fig.add_layer(heat_layer)\n",
    "# Call the figure to plot the data\n",
    "fig"
   ]
  },
  {
   "cell_type": "markdown",
   "id": "defensive-defense",
   "metadata": {},
   "source": [
    "Create a Percent Cloudiness Heatmap\n",
    "----------------"
   ]
  },
  {
   "cell_type": "code",
   "execution_count": 10,
   "id": "deadly-glucose",
   "metadata": {},
   "outputs": [
    {
     "data": {
      "application/vnd.jupyter.widget-view+json": {
       "model_id": "4835c52c86f9416ca474b15b3e8760cb",
       "version_major": 2,
       "version_minor": 0
      },
      "text/plain": [
       "Figure(layout=FigureLayout(height='420px'))"
      ]
     },
     "metadata": {},
     "output_type": "display_data"
    }
   ],
   "source": [
    "# Heatmap of cloudiness\n",
    "\n",
    "# Get the latitude and longitude\n",
    "locations = city_data_df[[\"Lat\",\"Lng\"]]\n",
    "# Get the max temperature\n",
    "clouds = city_data_df[\"Cloudiness\"]\n",
    "# Assign the figure variable\n",
    "fig = gmaps.figure(center=(30.0,31.0), zoom_level=1.5)\n",
    "# Assign the heatmap variable \n",
    "heat_layer = gmaps.heatmap_layer(locations, weights=clouds,\n",
    "                                dissipating=False, max_intensity=300, point_radius=4)\n",
    "# Add the heatmap layer\n",
    "fig.add_layer(heat_layer)\n",
    "# Call the figure to plot the data\n",
    "fig"
   ]
  },
  {
   "cell_type": "markdown",
   "id": "fantastic-fifteen",
   "metadata": {},
   "source": [
    "Create a Wind Speed Heatmap\n",
    "--------------------"
   ]
  },
  {
   "cell_type": "code",
   "execution_count": 11,
   "id": "frozen-barcelona",
   "metadata": {},
   "outputs": [
    {
     "data": {
      "application/vnd.jupyter.widget-view+json": {
       "model_id": "4cfacdddf3974b2abc58d8865c9b006e",
       "version_major": 2,
       "version_minor": 0
      },
      "text/plain": [
       "Figure(layout=FigureLayout(height='420px'))"
      ]
     },
     "metadata": {},
     "output_type": "display_data"
    }
   ],
   "source": [
    "# Heatmap of wind speed\n",
    "\n",
    "# Get the latitude and longitude\n",
    "locations = city_data_df[[\"Lat\",\"Lng\"]]\n",
    "# Get the max temperature\n",
    "wind_speed = city_data_df[\"Wind Speed\"]\n",
    "# Assign the figure variable\n",
    "fig = gmaps.figure(center=(30.0,31.0), zoom_level=1.5)\n",
    "# Assign the heatmap variable \n",
    "heat_layer = gmaps.heatmap_layer(locations, weights=wind_speed,\n",
    "                                dissipating=False, max_intensity=300, point_radius=4)\n",
    "# Add the heatmap layer\n",
    "fig.add_layer(heat_layer)\n",
    "# Call the figure to plot the data\n",
    "fig"
   ]
  },
  {
   "cell_type": "markdown",
   "id": "artificial-trinity",
   "metadata": {},
   "source": [
    "Get Vacation Criteria\n",
    "-----------------"
   ]
  },
  {
   "cell_type": "code",
   "execution_count": 12,
   "id": "victorian-hunger",
   "metadata": {},
   "outputs": [
    {
     "name": "stdout",
     "output_type": "stream",
     "text": [
      "What is the minimum temperature you would like for your trip? 75\n",
      "What is the maximum temperature you would like for your trip? 90\n"
     ]
    }
   ],
   "source": [
    "# Ask the customer to add a minimum and maximum temperature value\n",
    "min_temp = float(input(\"What is the minimum temperature you would like for your trip? \"))\n",
    "max_temp = float(input(\"What is the maximum temperature you would like for your trip? \"))"
   ]
  },
  {
   "cell_type": "code",
   "execution_count": 13,
   "id": "adequate-cream",
   "metadata": {},
   "outputs": [
    {
     "data": {
      "text/html": [
       "<div>\n",
       "<style scoped>\n",
       "    .dataframe tbody tr th:only-of-type {\n",
       "        vertical-align: middle;\n",
       "    }\n",
       "\n",
       "    .dataframe tbody tr th {\n",
       "        vertical-align: top;\n",
       "    }\n",
       "\n",
       "    .dataframe thead th {\n",
       "        text-align: right;\n",
       "    }\n",
       "</style>\n",
       "<table border=\"1\" class=\"dataframe\">\n",
       "  <thead>\n",
       "    <tr style=\"text-align: right;\">\n",
       "      <th></th>\n",
       "      <th>City_ID</th>\n",
       "      <th>City</th>\n",
       "      <th>Country</th>\n",
       "      <th>Date</th>\n",
       "      <th>Lat</th>\n",
       "      <th>Lng</th>\n",
       "      <th>Max Temp</th>\n",
       "      <th>Humidity</th>\n",
       "      <th>Cloudiness</th>\n",
       "      <th>Wind Speed</th>\n",
       "    </tr>\n",
       "  </thead>\n",
       "  <tbody>\n",
       "    <tr>\n",
       "      <th>0</th>\n",
       "      <td>0</td>\n",
       "      <td>Grand-Santi</td>\n",
       "      <td>GF</td>\n",
       "      <td>2021-03-25 21:56:52</td>\n",
       "      <td>4.2500</td>\n",
       "      <td>-54.3833</td>\n",
       "      <td>76.06</td>\n",
       "      <td>86</td>\n",
       "      <td>50</td>\n",
       "      <td>4.16</td>\n",
       "    </tr>\n",
       "    <tr>\n",
       "      <th>2</th>\n",
       "      <td>2</td>\n",
       "      <td>Rikitea</td>\n",
       "      <td>PF</td>\n",
       "      <td>2021-03-25 21:56:52</td>\n",
       "      <td>-23.1203</td>\n",
       "      <td>-134.9692</td>\n",
       "      <td>79.68</td>\n",
       "      <td>72</td>\n",
       "      <td>69</td>\n",
       "      <td>17.60</td>\n",
       "    </tr>\n",
       "    <tr>\n",
       "      <th>8</th>\n",
       "      <td>8</td>\n",
       "      <td>Sola</td>\n",
       "      <td>VU</td>\n",
       "      <td>2021-03-25 21:56:54</td>\n",
       "      <td>-13.8833</td>\n",
       "      <td>167.5500</td>\n",
       "      <td>82.40</td>\n",
       "      <td>83</td>\n",
       "      <td>40</td>\n",
       "      <td>8.30</td>\n",
       "    </tr>\n",
       "    <tr>\n",
       "      <th>9</th>\n",
       "      <td>9</td>\n",
       "      <td>Marsh Harbour</td>\n",
       "      <td>BS</td>\n",
       "      <td>2021-03-25 21:56:54</td>\n",
       "      <td>26.5412</td>\n",
       "      <td>-77.0636</td>\n",
       "      <td>77.05</td>\n",
       "      <td>76</td>\n",
       "      <td>9</td>\n",
       "      <td>13.85</td>\n",
       "    </tr>\n",
       "    <tr>\n",
       "      <th>13</th>\n",
       "      <td>13</td>\n",
       "      <td>Kapaa</td>\n",
       "      <td>US</td>\n",
       "      <td>2021-03-25 21:56:55</td>\n",
       "      <td>22.0752</td>\n",
       "      <td>-159.3190</td>\n",
       "      <td>77.00</td>\n",
       "      <td>83</td>\n",
       "      <td>1</td>\n",
       "      <td>4.61</td>\n",
       "    </tr>\n",
       "    <tr>\n",
       "      <th>17</th>\n",
       "      <td>17</td>\n",
       "      <td>Cayenne</td>\n",
       "      <td>GF</td>\n",
       "      <td>2021-03-25 21:56:56</td>\n",
       "      <td>4.9333</td>\n",
       "      <td>-52.3333</td>\n",
       "      <td>82.40</td>\n",
       "      <td>74</td>\n",
       "      <td>20</td>\n",
       "      <td>10.36</td>\n",
       "    </tr>\n",
       "    <tr>\n",
       "      <th>19</th>\n",
       "      <td>19</td>\n",
       "      <td>Georgetown</td>\n",
       "      <td>MY</td>\n",
       "      <td>2021-03-25 21:52:53</td>\n",
       "      <td>5.4112</td>\n",
       "      <td>100.3354</td>\n",
       "      <td>78.80</td>\n",
       "      <td>94</td>\n",
       "      <td>20</td>\n",
       "      <td>2.30</td>\n",
       "    </tr>\n",
       "    <tr>\n",
       "      <th>20</th>\n",
       "      <td>20</td>\n",
       "      <td>Maningrida</td>\n",
       "      <td>AU</td>\n",
       "      <td>2021-03-25 21:56:57</td>\n",
       "      <td>-12.0667</td>\n",
       "      <td>134.2667</td>\n",
       "      <td>76.51</td>\n",
       "      <td>90</td>\n",
       "      <td>50</td>\n",
       "      <td>5.77</td>\n",
       "    </tr>\n",
       "    <tr>\n",
       "      <th>22</th>\n",
       "      <td>22</td>\n",
       "      <td>Princeton</td>\n",
       "      <td>US</td>\n",
       "      <td>2021-03-25 21:56:58</td>\n",
       "      <td>25.5384</td>\n",
       "      <td>-80.4089</td>\n",
       "      <td>86.00</td>\n",
       "      <td>62</td>\n",
       "      <td>20</td>\n",
       "      <td>10.36</td>\n",
       "    </tr>\n",
       "    <tr>\n",
       "      <th>23</th>\n",
       "      <td>23</td>\n",
       "      <td>Bandar-E Lengeh</td>\n",
       "      <td>IR</td>\n",
       "      <td>2021-03-25 21:56:58</td>\n",
       "      <td>26.5579</td>\n",
       "      <td>54.8807</td>\n",
       "      <td>78.80</td>\n",
       "      <td>65</td>\n",
       "      <td>5</td>\n",
       "      <td>9.22</td>\n",
       "    </tr>\n",
       "  </tbody>\n",
       "</table>\n",
       "</div>"
      ],
      "text/plain": [
       "    City_ID             City Country                 Date      Lat       Lng  \\\n",
       "0         0      Grand-Santi      GF  2021-03-25 21:56:52   4.2500  -54.3833   \n",
       "2         2          Rikitea      PF  2021-03-25 21:56:52 -23.1203 -134.9692   \n",
       "8         8             Sola      VU  2021-03-25 21:56:54 -13.8833  167.5500   \n",
       "9         9    Marsh Harbour      BS  2021-03-25 21:56:54  26.5412  -77.0636   \n",
       "13       13            Kapaa      US  2021-03-25 21:56:55  22.0752 -159.3190   \n",
       "17       17          Cayenne      GF  2021-03-25 21:56:56   4.9333  -52.3333   \n",
       "19       19       Georgetown      MY  2021-03-25 21:52:53   5.4112  100.3354   \n",
       "20       20       Maningrida      AU  2021-03-25 21:56:57 -12.0667  134.2667   \n",
       "22       22        Princeton      US  2021-03-25 21:56:58  25.5384  -80.4089   \n",
       "23       23  Bandar-E Lengeh      IR  2021-03-25 21:56:58  26.5579   54.8807   \n",
       "\n",
       "    Max Temp  Humidity  Cloudiness  Wind Speed  \n",
       "0      76.06        86          50        4.16  \n",
       "2      79.68        72          69       17.60  \n",
       "8      82.40        83          40        8.30  \n",
       "9      77.05        76           9       13.85  \n",
       "13     77.00        83           1        4.61  \n",
       "17     82.40        74          20       10.36  \n",
       "19     78.80        94          20        2.30  \n",
       "20     76.51        90          50        5.77  \n",
       "22     86.00        62          20       10.36  \n",
       "23     78.80        65           5        9.22  "
      ]
     },
     "execution_count": 13,
     "metadata": {},
     "output_type": "execute_result"
    }
   ],
   "source": [
    "# Filter the dataset to find the citites that fit the criteria\n",
    "preferred_cities_df = city_data_df.loc[(city_data_df[\"Max Temp\"] <= max_temp) &\n",
    "                                       (city_data_df[\"Max Temp\"] >= min_temp)]\n",
    "preferred_cities_df.head(10)"
   ]
  },
  {
   "cell_type": "code",
   "execution_count": 14,
   "id": "right-overall",
   "metadata": {},
   "outputs": [
    {
     "data": {
      "text/plain": [
       "City_ID       156\n",
       "City          156\n",
       "Country       156\n",
       "Date          156\n",
       "Lat           156\n",
       "Lng           156\n",
       "Max Temp      156\n",
       "Humidity      156\n",
       "Cloudiness    156\n",
       "Wind Speed    156\n",
       "dtype: int64"
      ]
     },
     "execution_count": 14,
     "metadata": {},
     "output_type": "execute_result"
    }
   ],
   "source": [
    "# Determine any null values\n",
    "preferred_cities_df.count()"
   ]
  },
  {
   "cell_type": "markdown",
   "id": "choice-buddy",
   "metadata": {},
   "source": [
    "Map Vacation Criteria\n",
    "-------------------"
   ]
  },
  {
   "cell_type": "code",
   "execution_count": 15,
   "id": "extreme-plane",
   "metadata": {},
   "outputs": [
    {
     "data": {
      "text/html": [
       "<div>\n",
       "<style scoped>\n",
       "    .dataframe tbody tr th:only-of-type {\n",
       "        vertical-align: middle;\n",
       "    }\n",
       "\n",
       "    .dataframe tbody tr th {\n",
       "        vertical-align: top;\n",
       "    }\n",
       "\n",
       "    .dataframe thead th {\n",
       "        text-align: right;\n",
       "    }\n",
       "</style>\n",
       "<table border=\"1\" class=\"dataframe\">\n",
       "  <thead>\n",
       "    <tr style=\"text-align: right;\">\n",
       "      <th></th>\n",
       "      <th>City</th>\n",
       "      <th>Country</th>\n",
       "      <th>Max Temp</th>\n",
       "      <th>Lat</th>\n",
       "      <th>Lng</th>\n",
       "      <th>Hotel Name</th>\n",
       "    </tr>\n",
       "  </thead>\n",
       "  <tbody>\n",
       "    <tr>\n",
       "      <th>0</th>\n",
       "      <td>Grand-Santi</td>\n",
       "      <td>GF</td>\n",
       "      <td>76.06</td>\n",
       "      <td>4.2500</td>\n",
       "      <td>-54.3833</td>\n",
       "      <td></td>\n",
       "    </tr>\n",
       "    <tr>\n",
       "      <th>2</th>\n",
       "      <td>Rikitea</td>\n",
       "      <td>PF</td>\n",
       "      <td>79.68</td>\n",
       "      <td>-23.1203</td>\n",
       "      <td>-134.9692</td>\n",
       "      <td></td>\n",
       "    </tr>\n",
       "    <tr>\n",
       "      <th>8</th>\n",
       "      <td>Sola</td>\n",
       "      <td>VU</td>\n",
       "      <td>82.40</td>\n",
       "      <td>-13.8833</td>\n",
       "      <td>167.5500</td>\n",
       "      <td></td>\n",
       "    </tr>\n",
       "    <tr>\n",
       "      <th>9</th>\n",
       "      <td>Marsh Harbour</td>\n",
       "      <td>BS</td>\n",
       "      <td>77.05</td>\n",
       "      <td>26.5412</td>\n",
       "      <td>-77.0636</td>\n",
       "      <td></td>\n",
       "    </tr>\n",
       "    <tr>\n",
       "      <th>13</th>\n",
       "      <td>Kapaa</td>\n",
       "      <td>US</td>\n",
       "      <td>77.00</td>\n",
       "      <td>22.0752</td>\n",
       "      <td>-159.3190</td>\n",
       "      <td></td>\n",
       "    </tr>\n",
       "    <tr>\n",
       "      <th>17</th>\n",
       "      <td>Cayenne</td>\n",
       "      <td>GF</td>\n",
       "      <td>82.40</td>\n",
       "      <td>4.9333</td>\n",
       "      <td>-52.3333</td>\n",
       "      <td></td>\n",
       "    </tr>\n",
       "    <tr>\n",
       "      <th>19</th>\n",
       "      <td>Georgetown</td>\n",
       "      <td>MY</td>\n",
       "      <td>78.80</td>\n",
       "      <td>5.4112</td>\n",
       "      <td>100.3354</td>\n",
       "      <td></td>\n",
       "    </tr>\n",
       "    <tr>\n",
       "      <th>20</th>\n",
       "      <td>Maningrida</td>\n",
       "      <td>AU</td>\n",
       "      <td>76.51</td>\n",
       "      <td>-12.0667</td>\n",
       "      <td>134.2667</td>\n",
       "      <td></td>\n",
       "    </tr>\n",
       "    <tr>\n",
       "      <th>22</th>\n",
       "      <td>Princeton</td>\n",
       "      <td>US</td>\n",
       "      <td>86.00</td>\n",
       "      <td>25.5384</td>\n",
       "      <td>-80.4089</td>\n",
       "      <td></td>\n",
       "    </tr>\n",
       "    <tr>\n",
       "      <th>23</th>\n",
       "      <td>Bandar-E Lengeh</td>\n",
       "      <td>IR</td>\n",
       "      <td>78.80</td>\n",
       "      <td>26.5579</td>\n",
       "      <td>54.8807</td>\n",
       "      <td></td>\n",
       "    </tr>\n",
       "  </tbody>\n",
       "</table>\n",
       "</div>"
      ],
      "text/plain": [
       "               City Country  Max Temp      Lat       Lng Hotel Name\n",
       "0       Grand-Santi      GF     76.06   4.2500  -54.3833           \n",
       "2           Rikitea      PF     79.68 -23.1203 -134.9692           \n",
       "8              Sola      VU     82.40 -13.8833  167.5500           \n",
       "9     Marsh Harbour      BS     77.05  26.5412  -77.0636           \n",
       "13            Kapaa      US     77.00  22.0752 -159.3190           \n",
       "17          Cayenne      GF     82.40   4.9333  -52.3333           \n",
       "19       Georgetown      MY     78.80   5.4112  100.3354           \n",
       "20       Maningrida      AU     76.51 -12.0667  134.2667           \n",
       "22        Princeton      US     86.00  25.5384  -80.4089           \n",
       "23  Bandar-E Lengeh      IR     78.80  26.5579   54.8807           "
      ]
     },
     "execution_count": 15,
     "metadata": {},
     "output_type": "execute_result"
    }
   ],
   "source": [
    "# Create DataFrame called hotel_df to store hotel names along with city, country, max temp, and coordinates\n",
    "hotel_df = preferred_cities_df[[\"City\", \"Country\", \"Max Temp\", \"Lat\", \"Lng\"]].copy()\n",
    "hotel_df[\"Hotel Name\"] = \"\"\n",
    "hotel_df.head(10)"
   ]
  },
  {
   "cell_type": "code",
   "execution_count": 16,
   "id": "short-british",
   "metadata": {},
   "outputs": [],
   "source": [
    "# Set parameters to search for a hotel\n",
    "params = {\n",
    "    \"radius\":5000,\n",
    "    \"type\":\"lodging\",\n",
    "    \"key\":g_key\n",
    "}"
   ]
  },
  {
   "cell_type": "code",
   "execution_count": 17,
   "id": "gorgeous-honduras",
   "metadata": {},
   "outputs": [
    {
     "name": "stdout",
     "output_type": "stream",
     "text": [
      "Hotel not found...skipping.\n",
      "Hotel not found...skipping.\n",
      "Hotel not found...skipping.\n",
      "Hotel not found...skipping.\n",
      "Hotel not found...skipping.\n",
      "Hotel not found...skipping.\n",
      "Hotel not found...skipping.\n",
      "Hotel not found...skipping.\n",
      "Hotel not found...skipping.\n"
     ]
    }
   ],
   "source": [
    "# Iterate through the dataframe\n",
    "for index, row in hotel_df.iterrows():\n",
    "    # Get the latitude and longitude\n",
    "    lat = row[\"Lat\"]\n",
    "    lng = row[\"Lng\"]\n",
    "    \n",
    "    # Add the latitude and longitude to location key for hte params dictionary\n",
    "    params[\"location\"] = f\"{lat},{lng}\"\n",
    "    \n",
    "    # Use the search term: \"lodging\" and our latitude and longitude\n",
    "    base_url = \"https://maps.googleapis.com/maps/api/place/nearbysearch/json\"\n",
    "    # Make request and get the JSON data from the search\n",
    "    hotels = requests.get(base_url, params=params).json()\n",
    "    # Grab the first hotel from the results and store the name\n",
    "    try:\n",
    "        hotel_df.loc[index, \"Hotel Name\"] = hotels[\"results\"][0][\"name\"]\n",
    "    except:\n",
    "        print(\"Hotel not found...skipping.\")"
   ]
  },
  {
   "cell_type": "code",
   "execution_count": 18,
   "id": "sexual-fifteen",
   "metadata": {},
   "outputs": [
    {
     "data": {
      "application/vnd.jupyter.widget-view+json": {
       "model_id": "29b0bf97ef204723b4f8eee56f73a93d",
       "version_major": 2,
       "version_minor": 0
      },
      "text/plain": [
       "Figure(layout=FigureLayout(height='420px'))"
      ]
     },
     "metadata": {},
     "output_type": "display_data"
    }
   ],
   "source": [
    "# Add a heatmap of temperature for the vacation spots\n",
    "locations = hotel_df[[\"Lat\", \"Lng\"]]\n",
    "max_temp = hotel_df[\"Max Temp\"]\n",
    "fig = gmaps.figure(center=(30.0, 31.0), zoom_level=1.5)\n",
    "heat_layer = gmaps.heatmap_layer(locations, weights=max_temp, dissipating=False,\n",
    "                                max_intensity=300, point_radius=4)\n",
    "marker_layer = gmaps.marker_layer(locations)\n",
    "fig.add_layer(heat_layer)\n",
    "fig.add_layer(marker_layer)\n",
    "# Call the figure to plot the data\n",
    "fig"
   ]
  },
  {
   "cell_type": "code",
   "execution_count": 19,
   "id": "judicial-chemistry",
   "metadata": {},
   "outputs": [],
   "source": [
    "info_box_template = \"\"\"\n",
    "<dl>\n",
    "<dt>Hotel Name</dt><dd>{Hotel Name}</dd>\n",
    "<dt>City</dt><dd>{City}</dd>\n",
    "<dt>Country</dt><dd>{Country}</dd>\n",
    "<dt>Max Temp</dt><dd>{Max Temp} °F</dd>\n",
    "</dl>\n",
    "\"\"\"\n",
    "# Store the DataFrame Row\n",
    "hotel_info = [info_box_template.format(**row) for index, row in hotel_df.iterrows()]"
   ]
  },
  {
   "cell_type": "code",
   "execution_count": 20,
   "id": "indoor-camping",
   "metadata": {},
   "outputs": [
    {
     "data": {
      "application/vnd.jupyter.widget-view+json": {
       "model_id": "8b1e41031b3e43b3902fb65203ce30df",
       "version_major": 2,
       "version_minor": 0
      },
      "text/plain": [
       "Figure(layout=FigureLayout(height='420px'))"
      ]
     },
     "metadata": {},
     "output_type": "display_data"
    }
   ],
   "source": [
    "# Add a heatmap of temperature for the vacation spots\n",
    "locations = hotel_df[[\"Lat\", \"Lng\"]]\n",
    "max_temp = hotel_df[\"Max Temp\"]\n",
    "fig = gmaps.figure(center=(30.0, 31.0), zoom_level=1.5)\n",
    "heat_layer = gmaps.heatmap_layer(locations, weights=max_temp, dissipating=False,\n",
    "                                max_intensity=300, point_radius=4)\n",
    "marker_layer = gmaps.marker_layer(locations, info_box_content=hotel_info)\n",
    "fig.add_layer(heat_layer)\n",
    "fig.add_layer(marker_layer)\n",
    "# Call the figure to plot the data\n",
    "fig"
   ]
  },
  {
   "cell_type": "code",
   "execution_count": null,
   "id": "japanese-layer",
   "metadata": {},
   "outputs": [],
   "source": []
  }
 ],
 "metadata": {
  "kernelspec": {
   "display_name": "PythonData_388",
   "language": "python",
   "name": "pythondata_388"
  },
  "language_info": {
   "codemirror_mode": {
    "name": "ipython",
    "version": 3
   },
   "file_extension": ".py",
   "mimetype": "text/x-python",
   "name": "python",
   "nbconvert_exporter": "python",
   "pygments_lexer": "ipython3",
   "version": "3.8.8"
  }
 },
 "nbformat": 4,
 "nbformat_minor": 5
}
